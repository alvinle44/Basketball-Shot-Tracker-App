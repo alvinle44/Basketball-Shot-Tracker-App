{
 "cells": [
  {
   "cell_type": "code",
   "execution_count": null,
   "metadata": {},
   "outputs": [],
   "source": [
    "#mount the google drive first\n",
    "#https://www.youtube.com/watch?v=LNwODJXcvt4 source to train yolov8 model \n",
    "from google.colab import drive\n",
    "drive.mount('content/drive')"
   ]
  },
  {
   "cell_type": "code",
   "execution_count": null,
   "metadata": {},
   "outputs": [],
   "source": [
    "!pip install -q ultralytics roboflow"
   ]
  },
  {
   "cell_type": "code",
   "execution_count": null,
   "metadata": {},
   "outputs": [],
   "source": [
    "#set the roboflow api key\n",
    "import os \n",
    "ROBOFLOW_API_KEY = \"ENTER_YOUR_OWN_API_KEY\"\n",
    "os.environ[\"ROBOFLOW_API_KEY\"] = ROBOFLOW_API_KEY"
   ]
  },
  {
   "cell_type": "code",
   "execution_count": null,
   "metadata": {},
   "outputs": [],
   "source": [
    "from roboflow import Roboflow\n",
    "rf = Roboflow(api_key=os.environ[\"ROBOFLOW_API_KEY\"])\n",
    "\n",
    "#dataset user and dataset name workspace\n",
    "#https://universe.roboflow.com/cvsense/basketball_detection-lbacg/dataset/3 dataset I used with 4546 images alot \n",
    "\n",
    "#bigger dataset\n",
    "proj = rf.workspace(\"cvsense\").project(\"basketball_detection-lbacg\")\n",
    "dataset = proj.version(3).download(\"yolov8\")\n",
    "\n",
    "#https://universe.roboflow.com/034-ganesh-kumar-m-v-cs-r2lwe/basketball-lhqoe/browse?queryText=&pageSize=50&startingIndex=0&browseQuery=true smaller datset for first try\n",
    "#smaller datset\n",
    "# proj = rf.workspace(\"034-ganesh-kumar-m-v-cs-r2lwe\").project(\"basketball-lhqoe\")\n",
    "# dataset = proj.version(1).download(\"yolov8\")\n",
    "\n",
    "\n"
   ]
  },
  {
   "cell_type": "code",
   "execution_count": null,
   "metadata": {},
   "outputs": [],
   "source": [
    "#then after download dataset, update the train test and validation set in the yaml config file"
   ]
  },
  {
   "cell_type": "code",
   "execution_count": null,
   "metadata": {},
   "outputs": [],
   "source": [
    "import yaml, pathlib\n",
    "DATA_YAML = \"/content/Basketball_Detection-3/data.yaml\"\n",
    "names = yaml.safe_load(open(DATA_YAML))[\"names\"]   # e.g. ['ball','made','person','rim','shoot']\n",
    "print(\"names:\", names)\n",
    "\n",
    "# robust mapping (handles synonyms)\n",
    "def find_id(options):\n",
    "    for i,n in enumerate(names):\n",
    "        if n.lower() in options: return i\n",
    "    raise ValueError(f\"None of {options} in names: {names}\")\n",
    "\n",
    "BALL_ID = find_id({\"ball\",\"basketball\"})\n",
    "RIM_ID  = find_id({\"rim\",\"basketball hoop\",\"hoop\"})\n",
    "print(\"BALL_ID =\", BALL_ID, \"RIM_ID =\", RIM_ID)\n",
    "#for the big dataset, ball class = 0, rim class = 3"
   ]
  },
  {
   "cell_type": "code",
   "execution_count": null,
   "metadata": {},
   "outputs": [],
   "source": [
    "#train the yolov9 model with our own dataset with the dataset loaded in \n",
    "!yolo task=detect mode=train model=yolov8m.pt data={dataset.location}/data.yaml classes=[0, 3] epochs=20 imgsz=640"
   ]
  },
  {
   "cell_type": "code",
   "execution_count": null,
   "metadata": {},
   "outputs": [],
   "source": [
    "#confusion matrix from training\n",
    "from IPython.display import Image, display\n",
    "Image(filename=f'/content/runs/detect/train/confusion_matrix.png', width=600)"
   ]
  },
  {
   "cell_type": "code",
   "execution_count": null,
   "metadata": {},
   "outputs": [],
   "source": [
    "#training results graphs \n",
    "Image(filename=f'/content/runs/detect/train/results.png', width=600)"
   ]
  },
  {
   "cell_type": "code",
   "execution_count": null,
   "metadata": {},
   "outputs": [],
   "source": [
    "#choose the best model that we have during training and specify the data location of our validation set and run over the validation set \n",
    "!yolo task=detect mode=val model=/content/runs/detect/train/weights/best.pt data={dataset.location}/data.yaml"
   ]
  },
  {
   "cell_type": "code",
   "execution_count": null,
   "metadata": {},
   "outputs": [],
   "source": [
    "#now perform prediction on the trained model on the test set\n",
    "!yolo task=detect mode=predict model=/content/runs/detect/train/weights/best.pt conf=0.5 source={dataset.location}/test/images"
   ]
  },
  {
   "cell_type": "code",
   "execution_count": null,
   "metadata": {},
   "outputs": [],
   "source": [
    "import glob\n",
    "i =0\n",
    "for image_path in glob.glob(f'/content/runs/detect/predict2/*.jpg'):\n",
    "    if i == 10:\n",
    "        break\n",
    "    display(Image(filename=image_path, height=600))\n",
    "    print(\"/n\")\n",
    "    i+=1"
   ]
  }
 ],
 "metadata": {
  "language_info": {
   "name": "python"
  },
  "orig_nbformat": 4
 },
 "nbformat": 4,
 "nbformat_minor": 2
}
