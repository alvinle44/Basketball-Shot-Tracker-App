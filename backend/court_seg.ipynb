{
 "cells": [
  {
   "cell_type": "code",
   "execution_count": null,
   "metadata": {},
   "outputs": [],
   "source": [
    "from google.colab import drive\n",
    "drive.mount('content/drive')"
   ]
  },
  {
   "cell_type": "code",
   "execution_count": null,
   "metadata": {},
   "outputs": [],
   "source": [
    "!pip install -q ultralytics roboflow"
   ]
  },
  {
   "cell_type": "code",
   "execution_count": null,
   "metadata": {},
   "outputs": [],
   "source": [
    "#if using imported dataset from roboflow \n",
    "import os \n",
    "ROBOFLOW_API_KEY = \"ENTER_YOUR_OWN_API_KEY\"\n",
    "os.environ[\"ROBOFLOW_API_KEY\"] = ROBOFLOW_API_KEY"
   ]
  },
  {
   "cell_type": "code",
   "execution_count": null,
   "metadata": {},
   "outputs": [],
   "source": [
    "#used for local data files \n",
    "import yaml\n",
    "DATA_YAML = \"/content/drive/MyDrive/arc_segmented/data.yaml\"\n",
    "names = yaml.safe_load(open(DATA_YAML))[\"names\"]\n",
    "print(\"names:\", names)\n",
    "\n",
    "# robust mapping (handles synonyms)\n",
    "def find_id(options):\n",
    "    for i,n in enumerate(names):\n",
    "        if n.lower() in options: return i\n",
    "    raise ValueError(f\"None of {options} in names: {names}\")\n",
    "\n",
    "THREE_POINT  = find_id({\"three_point_line\"})\n",
    "print(\"three_point_line =\", THREE_POINT)\n",
    "#for the big dataset, 3pt_line class = 0\n",
    "#for the big dataset, ball class = 0, rim class = 3"
   ]
  },
  {
   "cell_type": "code",
   "execution_count": null,
   "metadata": {},
   "outputs": [],
   "source": [
    "#use yolo segment training to train the model to detect arcs segmentations and not box identification\n",
    "!yolo task=segment mode=train model=yolov8n-seg.pt data=/content/drive/MyDrive/arc_segmented/data.yaml epochs=20 imgsz=640"
   ]
  },
  {
   "cell_type": "code",
   "execution_count": null,
   "metadata": {},
   "outputs": [],
   "source": [
    "from IPython.display import Image, display\n",
    "Image(filename=f'/content/runs/segment/train/confusion_matrix.png', width=600)"
   ]
  },
  {
   "cell_type": "code",
   "execution_count": null,
   "metadata": {},
   "outputs": [],
   "source": [
    "#training results graphs \n",
    "Image(filename=f'/content/runs/segment/train/results.png', width=600)"
   ]
  },
  {
   "cell_type": "code",
   "execution_count": null,
   "metadata": {},
   "outputs": [],
   "source": [
    "#choose the best model that we have during training and specify the data location of our validation set and run over the validation set \n",
    "!yolo task=segment mode=val model=/content/runs/segment/train/weights/best.pt data=/content/drive/MyDrive/arc_segmented/data.yaml"
   ]
  },
  {
   "cell_type": "code",
   "execution_count": null,
   "metadata": {},
   "outputs": [],
   "source": [
    "#now perform prediction on the trained model on the test set\n",
    "!yolo task=detect mode=predict model=/content/runs/detect/train/weights/best.pt conf=0.5 source=/content/drive/MyDrive/arc_segmented/test/images"
   ]
  },
  {
   "cell_type": "code",
   "execution_count": null,
   "metadata": {},
   "outputs": [],
   "source": [
    "import glob\n",
    "#view a few of the segmentations \n",
    "#ouput shows both the box and the segmentation of the arc use the arc mask \n",
    "i =0\n",
    "for image_path in glob.glob(f'/content/runs/segment/predict/*.jpg'):\n",
    "    if i == 10:\n",
    "        break\n",
    "    display(Image(filename=image_path, height=600))\n",
    "    print(\"/n\")\n",
    "    i+=1"
   ]
  }
 ],
 "metadata": {
  "language_info": {
   "name": "python"
  },
  "orig_nbformat": 4
 },
 "nbformat": 4,
 "nbformat_minor": 2
}
